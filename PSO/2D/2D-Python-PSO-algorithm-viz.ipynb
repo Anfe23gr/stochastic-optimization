{
 "cells": [
  {
   "cell_type": "markdown",
   "metadata": {},
   "source": [
    "# Particle Swarm Optimization Algorithm (explained with Python!) "
   ]
  },
  {
   "cell_type": "markdown",
   "metadata": {},
   "source": [
    "[SPOILER] We will be using the [Particle Swarm Optimization algorithm](https://en.wikipedia.org/wiki/Particle_swarm_optimization) to obtain the minumum of some test functions\n",
    "![PSO-2D](img/PSO_Example1.gif)"
   ]
  },
  {
   "cell_type": "markdown",
   "metadata": {},
   "source": [
    "First of all, let's import the libraries we'll need (remember we are using Python 3)"
   ]
  },
  {
   "cell_type": "code",
   "execution_count": 1,
   "metadata": {
    "collapsed": false
   },
   "outputs": [],
   "source": [
    "import numpy as np\n",
    "import matplotlib\n",
    "import matplotlib.pyplot as plt\n",
    "\n",
    "from mpl_toolkits.mplot3d import Axes3D\n",
    "\n",
    "from plotPSO import plotPSO_2D\n",
    "import optitestfuns\n",
    "\n",
    "# import scipy as sp\n",
    "# import time\n",
    "\n",
    "\n",
    "%matplotlib inline\n",
    "plt.style.use('bmh')"
   ]
  },
  {
   "cell_type": "markdown",
   "metadata": {},
   "source": [
    "We can define and plot the function we want to optimize:"
   ]
  },
  {
   "cell_type": "code",
   "execution_count": 2,
   "metadata": {
    "collapsed": false
   },
   "outputs": [],
   "source": [
    "# Testing 2D plot\n",
    "\n",
    "lo_b = -2 # lower bound\n",
    "up_b =  2 # upper bound\n",
    "\n",
    "limits=([lo_b, up_b], # x bounds\n",
    "        [lo_b, up_b]) # y bounds\n",
    "\n",
    "x_lo = limits[0][0]\n",
    "x_up = limits[0][1]\n",
    "y_lo = limits[1][0]\n",
    "y_up = limits[1][1]\n",
    "\n",
    "f = optitestfuns.ackley # Objective function (aka fitness function)\n",
    "\n",
    "#fig, ax = plotPSO_2D(f,  limits)"
   ]
  },
  {
   "cell_type": "markdown",
   "metadata": {},
   "source": [
    "## PSO Algorithm"
   ]
  },
  {
   "cell_type": "code",
   "execution_count": 3,
   "metadata": {
    "collapsed": false
   },
   "outputs": [],
   "source": [
    "n_iterations = 50\n",
    "    \n",
    "def run_PSO(n_particles=10, omega=0.3, phi_p=0.7, phi_g=0.7):\n",
    "    \"\"\" PSO algorithm to a funcion already defined.\n",
    "    Params:\n",
    "        omega = 0.3  # Particle weight (intertial)\n",
    "        phi_p = 0.7  # particle best weight\n",
    "        phi_g = 0.7  # global global weight\n",
    "    \n",
    "    \"\"\"\n",
    "    global x_best_p_global, y_best_p_global, z_p_best_global, \\\n",
    "           x_particles, y_particles, z_particles, \\\n",
    "           u_particles, v_particles\n",
    "    \n",
    "    # Note: we are using global variables to ease the use of interactive widgets\n",
    "    # This code will work fine without the global (and actually it will be safer)\n",
    "\n",
    "\n",
    "    # Initialazing x postion of particles\n",
    "    \n",
    "    x_particles = np.zeros((n_iterations, n_particles))\n",
    "    x_particles[0,:] = np.random.uniform(lo_b, up_b, size=n_particles)\n",
    "\n",
    "    # Initialazing y postion of particles\n",
    "    y_particles = np.zeros((n_iterations, n_particles))\n",
    "    y_particles[0,:] = np.random.uniform(lo_b, up_b, size=n_particles)\n",
    "\n",
    "    # Initialazing best praticles\n",
    "    x_best_particles = np.copy(x_particles[0,:])\n",
    "    y_best_particles = np.copy(y_particles[0,:])\n",
    "    \n",
    "    # Calculate Objective function (aka fitness function)\n",
    "    z_particles = np.zeros((n_iterations, n_particles))\n",
    "\n",
    "    for i in range(n_particles):\n",
    "        z_particles[0,i] = f((x_particles[0,i],y_particles[0,i]))\n",
    "\n",
    "    z_best_global = np.min(z_particles[0,:])\n",
    "    index_best_global = np.argmin(z_particles[0,:])\n",
    "\n",
    "    x_best_p_global = x_particles[0,index_best_global]\n",
    "    y_best_p_global = y_particles[0,index_best_global]\n",
    "\n",
    "    # Initialazin velocity\n",
    "    velocity_lo = lo_b-up_b  # [L/iteration]\n",
    "    velocity_up = up_b-lo_b  # [L/iteration] \n",
    "\n",
    "    v_max = 0.07 # [L/iteration]\n",
    "\n",
    "    u_particles = np.zeros((n_iterations, n_particles))\n",
    "    u_particles[0,:] = 0.1*np.random.uniform(velocity_lo, velocity_up, size=n_particles)\n",
    "\n",
    "    v_particles = np.zeros((n_iterations, n_particles))\n",
    "    v_particles[0,:] = 0.1*np.random.uniform(velocity_lo, velocity_up, size=n_particles)\n",
    "\n",
    "    \n",
    "\n",
    "    # PSO STARTS\n",
    "    iteration = 1\n",
    "    while iteration <= n_iterations-1:\n",
    "        for i in range(n_particles):\n",
    "            x_p = x_particles[iteration-1, i]\n",
    "            y_p = y_particles[iteration-1, i]\n",
    "\n",
    "            u_p = u_particles[iteration-1, i]\n",
    "            v_p = v_particles[iteration-1, i]\n",
    "\n",
    "            x_best_p = x_best_particles[i]\n",
    "            y_best_p = y_best_particles[i]\n",
    "\n",
    "            r_p = np.random.uniform(0, 1)\n",
    "            r_g = np.random.uniform(0, 1)\n",
    "\n",
    "            u_p_new = omega*u_p + \\\n",
    "                        phi_p*r_p*(x_best_p-x_p) + \\\n",
    "                        phi_g*r_g*(x_best_p_global-x_p)\n",
    "\n",
    "            v_p_new = omega*v_p + \\\n",
    "                        phi_p*r_p*(y_best_p-y_p) + \\\n",
    "                        phi_g*r_g*(y_best_p_global-y_p)\n",
    "\n",
    "            # # Velocity control\n",
    "            # while not (-v_max <= u_p_new <= v_max):  \n",
    "            #     u_p_new = 0.9*u_p_new \n",
    "            # while not (-v_max <= u_p_new <= v_max):  \n",
    "            #     u_p_new = 0.9*u_p_new \n",
    "\n",
    "            x_p_new = x_p + u_p_new\n",
    "            y_p_new = y_p + v_p_new\n",
    "\n",
    "\n",
    "            # Ignore new position if it's out of the domain\n",
    "            if not ((lo_b <= x_p_new <= up_b) and (lo_b <= y_p_new <= up_b)): \n",
    "                x_p_new = x_p \n",
    "                y_p_new = y_p \n",
    "\n",
    "            x_particles[iteration, i] = x_p_new\n",
    "            y_particles[iteration, i] = y_p_new\n",
    "\n",
    "            u_particles[iteration, i] = u_p_new\n",
    "            v_particles[iteration, i] = v_p_new\n",
    "\n",
    "            # Evaluation            \n",
    "            z_p_new = f((x_p_new,  y_p_new))\n",
    "            z_p_best = f((x_best_p, y_best_p))\n",
    "            \n",
    "            z_particles[iteration, i] = z_p_new\n",
    "\n",
    "            if z_p_new < z_p_best:\n",
    "                x_best_particles[i] = x_p_new\n",
    "                y_best_particles[i] = y_p_new\n",
    "\n",
    "                z_p_best_global = f([x_best_p_global, y_best_p_global])\n",
    "\n",
    "                if z_p_new < z_p_best_global:\n",
    "                    x_best_p_global = x_p_new\n",
    "                    y_best_p_global = y_p_new\n",
    "\n",
    "        # end while loop particles\n",
    "        iteration = iteration + 1\n",
    "        \n",
    "            \n",
    "    # Plotting convergence\n",
    "    z_particles_best_hist = np.min(z_particles, axis=1)\n",
    "    z_particles_worst_hist = np.max(z_particles, axis=1)\n",
    "\n",
    "    z_best_global = np.min(z_particles)\n",
    "    index_best_global = np.argmin(z_particles)\n",
    "\n",
    "\n",
    "    fig, ax1 = plt.subplots(nrows=1, ncols=1, figsize=(10, 2))\n",
    "    \n",
    "    # Grid points \n",
    "    x_lo = limits[0][0]\n",
    "    x_up = limits[0][1]\n",
    "    y_lo = limits[1][0]\n",
    "    y_up = limits[1][1]\n",
    "    \n",
    "    assert x_lo<x_up, \"Unbound x limits, the first value of the list needs to be higher\"\n",
    "    assert y_lo<y_up, \"Unbound x limits, the first value of the list needs to be higher\"\n",
    "    \n",
    "    n_points = 100\n",
    "                                 \n",
    "    x = np.linspace(x_lo, x_up, n_points) # x coordinates of the grid\n",
    "    y = np.linspace(y_lo, y_up, n_points) # y coordinates of the grid\n",
    "\n",
    "    XX, YY = np.meshgrid(x,y)\n",
    "    ZZ = np.zeros_like(XX)\n",
    "    \n",
    "    for i in range(n_points):\n",
    "        for j in range(n_points):\n",
    "            ZZ[i,j] = f((XX[i,j], YY[i,j]))\n",
    "            \n",
    "    # Limits of the function being plotted   \n",
    "    ax1.plot((0,n_iterations),(np.min(ZZ),np.min(ZZ)), '--g', label=\"min$f(x)$\")\n",
    "    ax1.plot((0,n_iterations),(np.max(ZZ),np.max(ZZ)),'--r',  label=\"max$f(x)$\")\n",
    "\n",
    "    # Convergence of the best particle and worst particle value\n",
    "    ax1.plot(np.arange(n_iterations),z_particles_best_hist,'b',  label=\"$p_{best}$\")\n",
    "    ax1.plot(np.arange(n_iterations),z_particles_worst_hist,'k', label=\"$p_{worst}$\")\n",
    "\n",
    "    ax1.set_xlim((0,n_iterations))\n",
    "\n",
    "    ax1.set_ylabel('$f(x)$')\n",
    "    ax1.set_xlabel('$i$ (iteration)')\n",
    "    ax1.set_title('Convergence')   \n",
    "\n",
    "    ax1.legend()"
   ]
  },
  {
   "cell_type": "code",
   "execution_count": 4,
   "metadata": {
    "collapsed": false,
    "scrolled": true
   },
   "outputs": [
    {
     "data": {
      "image/png": "[encoded data removed]",
      "text/plain": [
       "<matplotlib.figure.Figure at 0x4970390>"
      ]
     },
     "metadata": {},
     "output_type": "display_data"
    }
   ],
   "source": [
    "run_PSO()"
   ]
  },
  {
   "cell_type": "markdown",
   "metadata": {},
   "source": [
    "# Animation"
   ]
  },
  {
   "cell_type": "code",
   "execution_count": 5,
   "metadata": {
    "collapsed": true
   },
   "outputs": [],
   "source": [
    "from __future__ import print_function\n",
    "import ipywidgets as widgets\n",
    "from IPython.display import display, HTML"
   ]
  },
  {
   "cell_type": "code",
   "execution_count": 6,
   "metadata": {
    "collapsed": false
   },
   "outputs": [],
   "source": [
    "def plotPSO_iter(i=0): #iteration\n",
    "    \"\"\"Visualization of particles and obj. function\"\"\"\n",
    "        \n",
    "    fig, (ax1, ax2) = plotPSO_2D(f, limits,\n",
    "               particles_xy=(x_particles[i, :],y_particles[i, :]),\n",
    "               particles_uv=(u_particles[i, :],v_particles[i, :])) \n"
   ]
  },
  {
   "cell_type": "code",
   "execution_count": 7,
   "metadata": {
    "collapsed": false
   },
   "outputs": [
    {
     "name": "stderr",
     "output_type": "stream",
     "text": [
      "Widget Javascript not detected.  It may not be installed properly. Did you enable the widgetsnbextension? If not, then run \"jupyter nbextension enable --py --sys-prefix widgetsnbextension\"\n"
     ]
    }
   ],
   "source": [
    "w_arg_PSO = widgets.interact_manual(run_PSO,\n",
    "                            n_particles=(2,50),\n",
    "                            omega=(0,1,0.001),\n",
    "                            phi_p=(0,1,0.001),\n",
    "                            phi_g=(0,1,0.001),\n",
    "                            continuous_update=False)"
   ]
  },
  {
   "cell_type": "code",
   "execution_count": 8,
   "metadata": {
    "collapsed": false
   },
   "outputs": [
    {
     "name": "stderr",
     "output_type": "stream",
     "text": [
      "Widget Javascript not detected.  It may not be installed properly. Did you enable the widgetsnbextension? If not, then run \"jupyter nbextension enable --py --sys-prefix widgetsnbextension\"\n"
     ]
    }
   ],
   "source": [
    "w_viz_PSO = widgets.interact_manual(plotPSO_iter, i=(0,n_iterations-1), continuous_update=False)"
   ]
  },
  {
   "cell_type": "markdown",
   "metadata": {},
   "source": [
    "---"
   ]
  },
  {
   "cell_type": "markdown",
   "metadata": {},
   "source": [
    "Let's have a look to some examples in case you can't play with the sliders:"
   ]
  },
  {
   "cell_type": "markdown",
   "metadata": {},
   "source": [
    "![PSO-2D](img/PSO_Ackley.gif)"
   ]
  },
  {
   "cell_type": "markdown",
   "metadata": {},
   "source": [
    "![PSO-2D](img/PSO_salomon.gif)"
   ]
  },
  {
   "cell_type": "markdown",
   "metadata": {},
   "source": [
    "![PSO-2D](img/PSO_odd_square.gif)"
   ]
  },
  {
   "cell_type": "markdown",
   "metadata": {},
   "source": [
    "![PSO-2D](img/PSO_Rana.gif)"
   ]
  }
 ],
 "metadata": {
  "anaconda-cloud": {},
  "kernelspec": {
   "display_name": "Python [default]",
   "language": "python",
   "name": "python3"
  },
  "language_info": {
   "codemirror_mode": {
    "name": "ipython",
    "version": 3
   },
   "file_extension": ".py",
   "mimetype": "text/x-python",
   "name": "python",
   "nbconvert_exporter": "python",
   "pygments_lexer": "ipython3",
   "version": "3.5.2"
  },
  "widgets": {
   "state": {
    "8212687631f6400c9a9840d27710ab77": {
     "views": [
      {
       "cell_index": 13
      }
     ]
    },
    "e0551572e7ae4e0a8c1739ad8aa61099": {
     "views": [
      {
       "cell_index": 12
      }
     ]
    }
   },
   "version": "1.2.0"
  }
 },
 "nbformat": 4,
 "nbformat_minor": 0
}
